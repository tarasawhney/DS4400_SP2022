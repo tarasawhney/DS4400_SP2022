{
 "cells": [
  {
   "cell_type": "markdown",
   "metadata": {},
   "source": [
    "# Tara Sawhney - HW2 "
   ]
  },
  {
   "cell_type": "code",
   "execution_count": 524,
   "metadata": {},
   "outputs": [],
   "source": [
    "#IMPORTS \n",
    "import pandas as pd \n",
    "import numpy as np \n",
    "from sklearn.preprocessing import StandardScaler\n",
    "from sklearn import preprocessing \n",
    "from sklearn.linear_model import LinearRegression\n",
    "from sklearn.model_selection import train_test_split\n",
    "from sklearn.metrics import mean_squared_error \n",
    "from sklearn.preprocessing import PolynomialFeatures\n",
    "import matplotlib.pyplot as plt\n",
    "import seaborn as sns\n",
    "sns.set(font_scale=1)\n",
    "from sklearn.linear_model import LinearRegression\n",
    "from sklearn.metrics import r2_score\n",
    "import random"
   ]
  },
  {
   "cell_type": "markdown",
   "metadata": {},
   "source": [
    "## Problem 1: Analytical - Linear Regression"
   ]
  },
  {
   "cell_type": "markdown",
   "metadata": {},
   "source": [
    "### 1A)\n"
   ]
  },
  {
   "cell_type": "code",
   "execution_count": 525,
   "metadata": {},
   "outputs": [
    {
     "name": "stdout",
     "output_type": "stream",
     "text": [
      "y= 1.6 x + 20.0\n"
     ]
    }
   ],
   "source": [
    "#defining sample standard deviations \n",
    "sigmaX = 10\n",
    "sigmaY = 20 \n",
    "#defining sample means \n",
    "x_mean = 50 \n",
    "y_mean = 100 \n",
    "#correlation coefficient between sample means of x and y \n",
    "ro = 0.8\n",
    "\n",
    "#functions used \n",
    "theta_1 = (ro * sigmaY) / sigmaX \n",
    "theta_0 = y_mean - (theta_1 * x_mean)\n",
    "\n",
    "print(\"y=\",theta_1,\"x\" , \"+\",theta_0)\n",
    "\n",
    "#print(theta_1)\n",
    "#print(theta_0)"
   ]
  },
  {
   "cell_type": "markdown",
   "metadata": {},
   "source": [
    "### 1B)"
   ]
  },
  {
   "cell_type": "code",
   "execution_count": 526,
   "metadata": {},
   "outputs": [
    {
     "name": "stdout",
     "output_type": "stream",
     "text": [
      "y= -1.6 x + 180.0\n"
     ]
    }
   ],
   "source": [
    "#sample standard deviations \n",
    "sigmaX = 10\n",
    "sigmaY = 20 \n",
    "\n",
    "x_mean = 50 \n",
    "y_mean = 100 \n",
    "\n",
    "#here we are changing the correlation coefficient\n",
    "ro = -0.8\n",
    "\n",
    "theta_1 = (ro * sigmaY) / sigmaX \n",
    "theta_0 = y_mean - (theta_1 * x_mean)\n",
    "\n",
    "print(\"y=\",  theta_1,\"x\" , \"+\",  theta_0)"
   ]
  },
  {
   "cell_type": "markdown",
   "metadata": {},
   "source": [
    "### 1c)"
   ]
  },
  {
   "cell_type": "code",
   "execution_count": null,
   "metadata": {},
   "outputs": [],
   "source": []
  },
  {
   "cell_type": "markdown",
   "metadata": {},
   "source": [
    "## Problem 2: [Programming - Linear Regression]"
   ]
  },
  {
   "cell_type": "markdown",
   "metadata": {},
   "source": [
    "### 2a)"
   ]
  },
  {
   "cell_type": "code",
   "execution_count": 437,
   "metadata": {},
   "outputs": [
    {
     "name": "stdout",
     "output_type": "stream",
     "text": [
      "[-12.52196187  18.52763251  56.7488368   10.88186845   8.04372084\n",
      "  63.74289956  48.20010852  12.96426936  92.23147482  48.29008886\n",
      "  27.13703247 -67.64311741  17.27137953  78.37573693  -1.03520308\n",
      "  45.57765781 -12.93009098]\n",
      "R^2 0.7265334318706018\n",
      "MSE is:  31486.167775794882\n"
     ]
    }
   ],
   "source": [
    "from sklearn.metrics import mean_squared_error\n",
    "train_df = pd.read_csv('train.csv')\n",
    "#print(train_df)\n",
    "\n",
    "train_df_clean = train_df.drop([\"Unnamed: 0\", \"zipcode\"],1)\n",
    "#print(train_df_clean)\n",
    "\n",
    "\n",
    "train_df_clean['price'] = train_df_clean['price'].div(1000)\n",
    "#print(train_df_clean)\n",
    "\n",
    "train_df_div = train_df_clean['price'].div(1000)\n",
    "\n",
    "x_train = train_df_clean.drop('price', axis=1)\n",
    "#print(x_train)\n",
    "y_train = train_df_clean['price']\n",
    "#print(y_train)\n",
    "\n",
    "#intitalizing standard scaler objec\n",
    "scaler = StandardScaler()\n",
    "#fit regression i think \n",
    "scaler.fit(x_train)\n",
    "#transform data \n",
    "x_train = scaler.transform(x_train)\n",
    "#transform data \n",
    "x_test = scaler.transform(x_test)\n",
    "#scaled_train_data = pd.DataFrame(scaler.fit_transform(train_df_clean.loc[:,train_df_clean.columns != 'price']))\n",
    "#print(scaled_train_data)\n",
    "\n",
    "'''\n",
    "x_train = scaled_train_data.drop('price', axis=1)\n",
    "#print(x_label)\n",
    "y_train = scaled_train_data\n",
    "#print(y_feat)\n",
    "'''\n",
    "#initializing linear regression object\n",
    "reg = LinearRegression()\n",
    "\n",
    "#regression i think \n",
    "reg.fit(x_train, y_train)\n",
    "\n",
    "#printing coefficients \n",
    "print(reg.coef_)\n",
    "\n",
    "#predicting \n",
    "y_pred = reg.predict(x_train)\n",
    "\n",
    "#r^2 metric \n",
    "r2_linear_score = r2_score(y_true=y_train, y_pred=y_pred)\n",
    "#printing r^2 metric \n",
    "print(\"R^2\", r2_linear_score)\n",
    "#printing mean squared error \n",
    "print(\"MSE is: \", mean_squared_error(y_train, y_pred))\n",
    "\n",
    "\n"
   ]
  },
  {
   "cell_type": "markdown",
   "metadata": {},
   "source": [
    "The model is fitting the data very well as the R^2 for the training data is 0.7, which is almost perfect. The features that contribute the most to the linear regression model is grade. The MSE of training data is much smaller than that od the testing data. "
   ]
  },
  {
   "cell_type": "markdown",
   "metadata": {},
   "source": [
    "### 2b)"
   ]
  },
  {
   "cell_type": "code",
   "execution_count": 379,
   "metadata": {},
   "outputs": [
    {
     "name": "stdout",
     "output_type": "stream",
     "text": [
      "[-47.53997889  35.97036603  97.21171178  26.98391723  -2.06362257\n",
      "  75.65761993  51.87459025  24.96067237 104.70672427  87.37734151\n",
      "  35.95377687 -72.50375394  -2.23381801  77.61091444 -10.3665892\n",
      "  23.68905403 -23.85038144]\n",
      "R^2 0.6750073253711697\n",
      "MSE is:  54185.036855795115\n"
     ]
    }
   ],
   "source": [
    "from sklearn.metrics import mean_squared_error\n",
    "test_df = pd.read_csv('test.csv')\n",
    "#print(test_df)\n",
    "\n",
    "test_df_clean = test_df.drop([\"Unnamed: 0\", \"zipcode\", 'id', 'date'],1)\n",
    "#print(test_df_clean)\n",
    "\n",
    "\n",
    "test_df_clean['price'] = test_df_clean['price'].div(1000)\n",
    "#print(test_df_clean)\n",
    "\n",
    "x_test = test_df_clean.drop('price', axis=1)\n",
    "#print(x_test)\n",
    "y_test = test_df_clean['price']\n",
    "#print(y_test)\n",
    "\n",
    "#intitalizing standard scaler objec\n",
    "scaler = StandardScaler()\n",
    "#fit regression i think \n",
    "scaler.fit(x_test)\n",
    "#transform data \n",
    "x_train = scaler.transform(x_train)\n",
    "#transform data \n",
    "x_test = scaler.transform(x_test)\n",
    "#scaled_train_data = pd.DataFrame(scaler.fit_transform(train_df_clean.loc[:,train_df_clean.columns != 'price']))\n",
    "#print(scaled_train_data)\n",
    "\n",
    "'''\n",
    "x_train = scaled_train_data.drop('price', axis=1)\n",
    "#print(x_label)\n",
    "y_train = scaled_train_data\n",
    "#print(y_feat)\n",
    "'''\n",
    "#initializing linear regression object\n",
    "reg = LinearRegression()\n",
    "\n",
    "#regression i think \n",
    "reg.fit(x_test, y_test)\n",
    "\n",
    "#printing coefficients \n",
    "print(reg.coef_)\n",
    "\n",
    "#predicting \n",
    "y_pred = reg.predict(x_test)\n",
    "\n",
    "#r^2 metric \n",
    "r2_linear_score = r2_score(y_true=y_test, y_pred=y_pred)\n",
    "#printing r^2 metric \n",
    "print(\"R^2\", r2_linear_score)\n",
    "#printing mean squared error \n",
    "print(\"MSE is: \", mean_squared_error(y_test, y_pred))\n",
    "\n",
    "\n",
    "\n",
    "\n"
   ]
  },
  {
   "cell_type": "markdown",
   "metadata": {},
   "source": [
    "### 2c) "
   ]
  },
  {
   "cell_type": "markdown",
   "metadata": {},
   "source": [
    "The model is fitting the data very well as the R^2 for the training data is 0.7, which is almost perfect. The features that contribute the most to the linear regression model is grade. The MSE of training data is much smaller than that od the testing data. "
   ]
  },
  {
   "cell_type": "markdown",
   "metadata": {},
   "source": [
    "## Problem 3: Programming - Implementing Closed-Form Solution for Linear Regression "
   ]
  },
  {
   "cell_type": "markdown",
   "metadata": {},
   "source": [
    "### 3a)"
   ]
  },
  {
   "cell_type": "code",
   "execution_count": 518,
   "metadata": {},
   "outputs": [],
   "source": [
    "from sklearn.metrics import mean_squared_error\n",
    "#reading in the training data\n",
    "train_df = pd.read_csv('train.csv')\n",
    "#train_df\n",
    "\n",
    "train_df_clean = train_df.drop([\"Unnamed: 0\", \"zipcode\"],1)\n",
    "#print(train_df_clean)\n",
    "\n",
    "test_df = pd.read_csv('test.csv')\n",
    "#print(test_df)\n",
    "\n",
    "test_df_clean = test_df.drop(['Unnamed: 0', 'id', 'date', 'zipcode'], 1)\n",
    "#test_df_clean \n",
    "\n",
    "x_train = train_df_clean.drop('price', axis=1)\n",
    "#print(x_label)\n",
    "y_train = train_df_clean['price']\n",
    "#print(y_feat)\n",
    "\n",
    "x_test = test_df_clean.drop('price', axis=1)\n",
    "#print(x_test)\n",
    "y_test = test_df_clean['price']\n",
    "#print(y_test)\n",
    "\n",
    "\n"
   ]
  },
  {
   "cell_type": "code",
   "execution_count": 519,
   "metadata": {},
   "outputs": [],
   "source": [
    "def closed_form(x_matrix, y_1): \n",
    "\n",
    "    matrix = x_matrix.to_numpy()\n",
    "    \n",
    "    #y_1 = x_matrix[y].to_numpy()\n",
    "    \n",
    "    transposed_matrix = np.transpose(matrix)\n",
    "    \n",
    "    closed_form_1 = np.linalg.pinv(np.dot(matrix, transposed_matrix))\n",
    "    closed_form_2 = np.dot(transposed_matrix, closed_form_1)\n",
    "    closed_form_3 = np.dot(closed_form_2, y)\n",
    "    \n",
    "    return closed_form_3"
   ]
  },
  {
   "cell_type": "code",
   "execution_count": 520,
   "metadata": {},
   "outputs": [
    {
     "name": "stdout",
     "output_type": "stream",
     "text": [
      "R^2 training: 0.7232632006804854\n",
      "MSE training:  31862692952.608883\n",
      "R^2 testing: 0.6515887319602982\n",
      "MSE testing:  58089547468.31338\n"
     ]
    }
   ],
   "source": [
    "closed_form_3 = closed_form(x_train, y_train)\n",
    "#closed_form_3\n",
    "\n",
    "y_pred = np.dot(x_train, closed_form_3)\n",
    "\n",
    "#r^2 metric \n",
    "r2_linear_score = r2_score(y_true=y_train, y_pred=y_pred)\n",
    "#printing r^2 metric \n",
    "print(\"R^2 training:\", r2_linear_score)\n",
    "#printing mean squared error \n",
    "print(\"MSE training: \", mean_squared_error(y_train, y_pred))\n",
    "\n",
    "\n",
    "y_pred = np.dot(x_test, closed_form_3)\n",
    "#r^2 metric \n",
    "r2_linear_score = r2_score(y_true=y_test, y_pred=y_pred)\n",
    "#printing r^2 metric \n",
    "print(\"R^2 testing:\", r2_linear_score)\n",
    "#printing mean squared error \n",
    "print(\"MSE testing: \", mean_squared_error(y_test, y_pred))\n",
    "\n",
    "#print(x_matrix.shape())\n",
    "#print(y.shape())\n",
    "\n"
   ]
  },
  {
   "cell_type": "code",
   "execution_count": 521,
   "metadata": {},
   "outputs": [],
   "source": [
    "def new_test_point(train_df_clean, x, feat): \n",
    "    x_feat = train_df_clean.columns.get_loc(feat)\n",
    "    theta_L = closed_form(train_df, feat)\n",
    "    theta = theta_L[x_feat]\n",
    "    pred = np.dot(theta, x)\n",
    "    \n",
    "    return prediction"
   ]
  },
  {
   "cell_type": "code",
   "execution_count": 394,
   "metadata": {},
   "outputs": [
    {
     "data": {
      "text/plain": [
       "289000.0"
      ]
     },
     "execution_count": 394,
     "metadata": {},
     "output_type": "execute_result"
    }
   ],
   "source": [
    "prediction"
   ]
  },
  {
   "cell_type": "code",
   "execution_count": 523,
   "metadata": {},
   "outputs": [
    {
     "name": "stdout",
     "output_type": "stream",
     "text": [
      "[ 9.99840723e-01 -1.41881173e-10 -6.18456397e-10  1.40425751e-07\n",
      " -9.74079325e-06  1.60071068e-10  3.49245965e-10  2.09183781e-10\n",
      "  6.54836185e-11  2.32830644e-10  1.30198794e-07  3.36781305e-08\n",
      "  2.37067752e-07  1.86160349e-08  3.57977115e-09 -5.44605427e-09\n",
      " -1.60317118e-07  6.79099630e-06]\n"
     ]
    }
   ],
   "source": [
    "print(closed_form_1)"
   ]
  },
  {
   "cell_type": "markdown",
   "metadata": {},
   "source": [
    "### 3C)"
   ]
  },
  {
   "cell_type": "markdown",
   "metadata": {},
   "source": [
    "The results for the r^2 score are almost exactly the same as those in problem 2 computed with the package - however it is noticeable that the MSE for training and testing are significantly larger than in problem 2. "
   ]
  },
  {
   "cell_type": "markdown",
   "metadata": {},
   "source": [
    "## Problem 4"
   ]
  },
  {
   "cell_type": "markdown",
   "metadata": {},
   "source": [
    "## 4A)"
   ]
  },
  {
   "cell_type": "code",
   "execution_count": 343,
   "metadata": {},
   "outputs": [],
   "source": [
    "x_train = train_df_clean['sqft_living']\n",
    "#print(x_label)\n",
    "y_train = train_df_clean['price']\n",
    "#print(y_feat)\n",
    "\n"
   ]
  },
  {
   "cell_type": "code",
   "execution_count": null,
   "metadata": {},
   "outputs": [],
   "source": [
    "def polynomial(x_feat, y_response): \n",
    "    \n",
    "    x_array =\n",
    "\n",
    "    matrix = x_matrix.to_numpy()\n",
    "    \n",
    "    #y_1 = x_matrix[y].to_numpy()\n",
    "    \n",
    "    transposed_matrix = np.transpose(matrix)\n",
    "    \n",
    "    closed_form_1 = np.linalg.pinv(np.dot(matrix, transposed_matrix))\n",
    "    closed_form_2 = np.dot(transposed_matrix, closed_form_1)\n",
    "    closed_form_3 = np.dot(closed_form_2, y)\n",
    "    \n",
    "    return closed_form_3"
   ]
  },
  {
   "cell_type": "code",
   "execution_count": 405,
   "metadata": {},
   "outputs": [],
   "source": [
    "def poly(x_list, y_list, p): \n",
    "    \n",
    "    #x_feat = train_df_clean['sqft_living']\n",
    "    \n",
    "    poly = []\n",
    "\n",
    "    #matrix = x_matrix.to_numpy()\n",
    "    \n",
    "    #y_1 = x_matrix[y].to_numpy()\n",
    "    \n",
    "    #transposed_matrix = np.transpose(matrix)\n",
    "    \n",
    "    #closed_form_1 = np.linalg.pinv(np.dot(matrix, transposed_matrix))\n",
    "    #closed_form_2 = np.dot(transposed_matrix, closed_form_1)\n",
    "    #closed_form_3 = np.dot(closed_form_2, y)\n",
    "    \n",
    "    for i in range(0,p): \n",
    "        poly.append(x ** i)\n",
    "    \n",
    "    #list of polynomial coefficients \n",
    "    #coef_ = []\n",
    "    \n",
    "    coef_ = (x_feat, y_1, feat)\n",
    "    return coef_\n",
    "\n",
    "\n",
    "\n",
    "    \n",
    "    #return closed_form_3\n",
    "\n"
   ]
  },
  {
   "cell_type": "code",
   "execution_count": 407,
   "metadata": {},
   "outputs": [
    {
     "ename": "NameError",
     "evalue": "name 'coef_' is not defined",
     "output_type": "error",
     "traceback": [
      "\u001b[0;31m---------------------------------------------------------------------------\u001b[0m",
      "\u001b[0;31mNameError\u001b[0m                                 Traceback (most recent call last)",
      "\u001b[0;32m<ipython-input-407-bcb7ced2c925>\u001b[0m in \u001b[0;36m<module>\u001b[0;34m\u001b[0m\n\u001b[0;32m----> 1\u001b[0;31m \u001b[0mprint\u001b[0m\u001b[0;34m(\u001b[0m\u001b[0mcoef_\u001b[0m\u001b[0;34m)\u001b[0m\u001b[0;34m\u001b[0m\u001b[0;34m\u001b[0m\u001b[0m\n\u001b[0m",
      "\u001b[0;31mNameError\u001b[0m: name 'coef_' is not defined"
     ]
    }
   ],
   "source": [
    "print(coef_)"
   ]
  },
  {
   "cell_type": "markdown",
   "metadata": {},
   "source": [
    "## Problem 5 "
   ]
  },
  {
   "cell_type": "markdown",
   "metadata": {},
   "source": [
    "### 5a) "
   ]
  },
  {
   "cell_type": "code",
   "execution_count": 300,
   "metadata": {},
   "outputs": [],
   "source": [
    "import numpy as np\n",
    "import pandas as pd\n",
    "import matplotlib.pyplot as plt\n",
    "\n",
    "# Preprocessing Input data\n",
    "train_df = pd.read_csv('train.csv')\n",
    "train_df_clean = train_df.drop(['Unnamed: 0', 'zipcode'], 1)\n",
    "x_train = train_df_clean.drop('price', axis=1)\n",
    "y_train = train_df_clean['price']\n",
    "#plt.scatter(x_train, y_train)\n",
    "#plt.show()"
   ]
  },
  {
   "cell_type": "code",
   "execution_count": 514,
   "metadata": {},
   "outputs": [],
   "source": [
    "#ASK ABOUT THREE DIFFERENT VALUES AND SHI\n",
    "#TF IS THIS SHIT??\n",
    "\n",
    "def gradient_descent(theta, x, y, iterrs, learning_rate): \n",
    "    #theta = np.random.randint(1,100)\n",
    "    for i in range(1, iterrs): \n",
    "        error = np.subtract(np.matmul(x, theta), y)\n",
    "        \n",
    "        transposed = np.transpose(error)\n",
    "        \n",
    "        transposed.align(x)\n",
    "        \n",
    "        sub = np.matmul(transposed, x)\n",
    "        array_ = np.dot(sub, 2)\n",
    "        \n",
    "        array_1 = np.divide(array_, x.size)\n",
    "        \n",
    "        new_theta = np.dot(array_1, learning_rate)\n",
    "        \n",
    "        theta = np.add(theta, new_theta)\n",
    "        \n",
    "    return theta "
   ]
  },
  {
   "cell_type": "code",
   "execution_count": 522,
   "metadata": {},
   "outputs": [
    {
     "data": {
      "text/plain": [
       "7"
      ]
     },
     "execution_count": 522,
     "metadata": {},
     "output_type": "execute_result"
    }
   ],
   "source": [
    "theta "
   ]
  },
  {
   "cell_type": "code",
   "execution_count": null,
   "metadata": {},
   "outputs": [],
   "source": []
  }
 ],
 "metadata": {
  "kernelspec": {
   "display_name": "Python 3",
   "language": "python",
   "name": "python3"
  },
  "language_info": {
   "codemirror_mode": {
    "name": "ipython",
    "version": 3
   },
   "file_extension": ".py",
   "mimetype": "text/x-python",
   "name": "python",
   "nbconvert_exporter": "python",
   "pygments_lexer": "ipython3",
   "version": "3.8.3"
  }
 },
 "nbformat": 4,
 "nbformat_minor": 4
}
